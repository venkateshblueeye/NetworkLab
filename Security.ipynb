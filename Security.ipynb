{
 "cells": [
  {
   "cell_type": "markdown",
   "metadata": {},
   "source": [
    "Ex.1a Symmentric Key Encryption"
   ]
  },
  {
   "cell_type": "code",
   "execution_count": null,
   "metadata": {},
   "outputs": [],
   "source": [
    "def encrypt_caesar(message, key):\n",
    "    result = \"\"\n",
    "    for char in message:\n",
    "        if char.isalpha():\n",
    "            if char.isupper():\n",
    "                result += chr((ord(char) + key - ord('A')) % 26 + ord('A'))\n",
    "            else:\n",
    "                result += chr((ord(char) + key - ord('a')) % 26 + ord('a'))\n",
    "        else:\n",
    "            result += char\n",
    "    return result\n",
    "def decrypt_caesar(encrypted_message, key):\n",
    "    return encrypt_caesar(encrypted_message, -key)\n",
    "if __name__ == \"__main__\":\n",
    "    print(\"Caesar Encryption and Decryption\")\n",
    "    message_to_encrypt =input(\"Enter the Text to be Encrypted\")\n",
    "    caesar_key =int(input(\"Enter the Key Size\"))\n",
    "    encrypted_message = encrypt_caesar(message_to_encrypt, caesar_key)\n",
    "    decrypted_message = decrypt_caesar(encrypted_message, caesar_key)\n",
    "    print(\"Original Message:\", message_to_encrypt)\n",
    "    print(\"Encrypted Message:\", encrypted_message)\n",
    "    print(\"Decrypted Message:\", decrypted_message)\n"
   ]
  },
  {
   "cell_type": "markdown",
   "metadata": {},
   "source": [
    "Ex.1b Rail_Fence"
   ]
  },
  {
   "cell_type": "code",
   "execution_count": null,
   "metadata": {},
   "outputs": [],
   "source": [
    "def encrypt_rail_fence(plaintext, rails):\n",
    "    matrix = [['' for _ in range(len(plaintext))] for _ in range(rails)]\n",
    "    row, col = 0, 0\n",
    "    for char in plaintext:\n",
    "        matrix[row][col] = char\n",
    "        col += 1\n",
    "        # Change direction when reaching the top or bottom rail\n",
    "        if row == 0 or row == rails - 1:\n",
    "            row += 1\n",
    "        else:\n",
    "            row -= 1\n",
    "    # Read the matrix row by row to get the ciphertext\n",
    "    ciphertext = ''.join(matrix[i][j] for j in range(len(plaintext)) for i in range(rails))\n",
    "    return ciphertext\n",
    "def decrypt_rail_fence(ciphertext, rails):\n",
    "    matrix = [['' for _ in range(len(ciphertext))] for _ in range(rails)]\n",
    "    row, col = 0, 0\n",
    "    for char in ciphertext:\n",
    "        matrix[row][col] = '*'\n",
    "        col += 1\n",
    "        # Change direction when reaching the top or bottom rail\n",
    "        if row == 0 or row == rails - 1:\n",
    "            row += 1\n",
    "        else:\n",
    "            row -= 1\n",
    "    # Fill the matrix with the ciphertext\n",
    "    index = 0\n",
    "    for i in range(rails):\n",
    "        for j in range(len(ciphertext)):\n",
    "            if matrix[i][j] == '*' and index < len(ciphertext):\n",
    "                matrix[i][j] = ciphertext[index]\n",
    "                index += 1\n",
    "    # Read the matrix column by column to get the plaintext\n",
    "    plaintext = ''.join(matrix[i][j] for j in range(len(ciphertext)) for i in range(rails))\n",
    "    return plaintext\n",
    "# Example usage\n",
    "plaintext = \"Hello, \"\n",
    "rails = 3\n",
    "# Encryption\n",
    "ciphertext = encrypt_rail_fence(plaintext, rails)\n",
    "print(\"Encrypted:\", ciphertext)\n",
    "# Decryption\n",
    "decrypted_text = decrypt_rail_fence(ciphertext, rails)\n",
    "print(\"Decrypted:\", decrypted_text)\n",
    "\n"
   ]
  },
  {
   "cell_type": "markdown",
   "metadata": {},
   "source": [
    "2a. Implement asymmetric key algorithms and key exchange algorithms "
   ]
  },
  {
   "cell_type": "code",
   "execution_count": 7,
   "metadata": {},
   "outputs": [
    {
     "name": "stdout",
     "output_type": "stream",
     "text": [
      "Encrypted Message: 888a1e27a5fcf9f59f58cbd999a6ccc062830191b7b09f7c08dae28997c3f939e46a01ebecf0dc620dd0b0dda7ab0982030d962bacceb0787400dbe259be7103dd99b257844c00069427c77272fdf3fe0c72289106027750951091d7ab041a9c4d2880584f5fbabda167332aadf5a44df3b643ae311c15904fde65347b916b99cee092eb32178552505a4a7e83a4d6a5120a23237262f39467a9f562e285c608592c3c1bdb8a0f285475e6d136075b363d4d3bffa742ba168d5dc4ca600891a51a3233a5272b88ed3049f66751f78e78387e983af13ea7f683871cb0a0ab3434a63e563d5f42e68393a2b0c0b2d5af1d0984a41e68b709ba6ea8f3b5907c334b\n",
      "Decrypted Message: Hello, RSA!\n"
     ]
    }
   ],
   "source": [
    "from cryptography.hazmat.primitives import serialization, hashes\n",
    "from cryptography.hazmat.primitives.asymmetric import rsa, padding\n",
    "\n",
    "def generate_rsa_key_pair():\n",
    "    private_key = rsa.generate_private_key(\n",
    "        public_exponent=65537,\n",
    "        key_size=2048,\n",
    "    )\n",
    "    public_key = private_key.public_key()\n",
    "    return private_key, public_key\n",
    "\n",
    "def encrypt_rsa(public_key, plaintext):\n",
    "    ciphertext = public_key.encrypt(\n",
    "        plaintext.encode(),\n",
    "        padding.OAEP(\n",
    "            mgf=padding.MGF1(algorithm=hashes.SHA256()),\n",
    "            algorithm=hashes.SHA256(),\n",
    "            label=None\n",
    "        )\n",
    "    )\n",
    "    return ciphertext\n",
    "\n",
    "def decrypt_rsa(private_key, ciphertext):\n",
    "    plaintext = private_key.decrypt(\n",
    "        ciphertext,\n",
    "        padding.OAEP(\n",
    "            mgf=padding.MGF1(algorithm=hashes.SHA256()),\n",
    "            algorithm=hashes.SHA256(),\n",
    "            label=None\n",
    "        )\n",
    "    ).decode()\n",
    "    return plaintext\n",
    "\n",
    "# Example usage\n",
    "private_key, public_key = generate_rsa_key_pair()\n",
    "message = \"Hello, RSA!\"\n",
    "\n",
    "encrypted_message = encrypt_rsa(public_key, message)\n",
    "print(\"Encrypted Message:\", encrypted_message.hex())\n",
    "\n",
    "decrypted_message = decrypt_rsa(private_key, encrypted_message)\n",
    "print(\"Decrypted Message:\", decrypted_message)\n"
   ]
  },
  {
   "cell_type": "markdown",
   "metadata": {},
   "source": [
    "2B. Implement key exchange algorithms "
   ]
  },
  {
   "cell_type": "code",
   "execution_count": 8,
   "metadata": {},
   "outputs": [],
   "source": [
    "from cryptography.hazmat.primitives import serialization\n",
    "from cryptography.hazmat.primitives.asymmetric import dh\n",
    "from cryptography.hazmat.backends import default_backend\n",
    "\n",
    "def generate_dh_key_pair():\n",
    "    parameters = dh.generate_parameters(generator=2, key_size=2048, backend=default_backend())\n",
    "    private_key = parameters.generate_private_key()\n",
    "    public_key = private_key.public_key()\n",
    "    return private_key, public_key\n",
    "\n",
    "def serialize_key(key):\n",
    "    return key.public_bytes(\n",
    "        encoding=serialization.Encoding.PEM,\n",
    "        format=serialization.PublicFormat.SubjectPublicKeyInfo\n",
    "    )\n",
    "\n",
    "def deserialize_key(serialized_key):\n",
    "    return serialization.load_pem_public_key(serialized_key, backend=default_backend())\n",
    "\n",
    "def derive_shared_key(private_key, peer_public_key):\n",
    "    shared_key = private_key.exchange(peer_public_key)\n",
    "    return shared_key\n",
    "\n",
    "# Example usage\n",
    "alice_private_key, alice_public_key = generate_dh_key_pair()\n",
    "bob_private_key, bob_public_key = generate_dh_key_pair()\n",
    "\n",
    "# Serialize public keys\n",
    "serialized_alice_public_key = serialize_key(alice_public_key)\n",
    "serialized_bob_public_key = serialize_key(bob_public_key)\n",
    "\n",
    "# Deserialize public keys\n",
    "alice_public_key = deserialize_key(serialized_bob_public_key)\n",
    "bob_public_key = deserialize_key(serialized_alice_public_key)\n",
    "\n",
    "# Derive shared keys\n",
    "alice_shared_key = derive_shared_key(alice_private_key, bob_public_key)\n",
    "bob_shared_key = derive_shared_key(bob_private_key, alice_public_key)\n",
    "\n",
    "print(\"Alice's Shared Key:\", alice_shared_key.hex())\n",
    "print(\"Bob's Shared Key:\", bob_shared_key.hex())\n"
   ]
  },
  {
   "cell_type": "markdown",
   "metadata": {},
   "source": [
    "3. Implement digital signature schemes "
   ]
  },
  {
   "cell_type": "code",
   "execution_count": 1,
   "metadata": {},
   "outputs": [
    {
     "ename": "ModuleNotFoundError",
     "evalue": "No module named 'cryptography'",
     "output_type": "error",
     "traceback": [
      "\u001b[1;31m---------------------------------------------------------------------------\u001b[0m",
      "\u001b[1;31mModuleNotFoundError\u001b[0m                       Traceback (most recent call last)",
      "Cell \u001b[1;32mIn[1], line 1\u001b[0m\n\u001b[1;32m----> 1\u001b[0m \u001b[38;5;28;01mfrom\u001b[39;00m \u001b[38;5;21;01mcryptography\u001b[39;00m\u001b[38;5;21;01m.\u001b[39;00m\u001b[38;5;21;01mhazmat\u001b[39;00m\u001b[38;5;21;01m.\u001b[39;00m\u001b[38;5;21;01mbackends\u001b[39;00m \u001b[38;5;28;01mimport\u001b[39;00m default_backend\n\u001b[0;32m      2\u001b[0m \u001b[38;5;28;01mfrom\u001b[39;00m \u001b[38;5;21;01mcryptography\u001b[39;00m\u001b[38;5;21;01m.\u001b[39;00m\u001b[38;5;21;01mhazmat\u001b[39;00m\u001b[38;5;21;01m.\u001b[39;00m\u001b[38;5;21;01mprimitives\u001b[39;00m \u001b[38;5;28;01mimport\u001b[39;00m serialization, hashes\n\u001b[0;32m      3\u001b[0m \u001b[38;5;28;01mfrom\u001b[39;00m \u001b[38;5;21;01mcryptography\u001b[39;00m\u001b[38;5;21;01m.\u001b[39;00m\u001b[38;5;21;01mhazmat\u001b[39;00m\u001b[38;5;21;01m.\u001b[39;00m\u001b[38;5;21;01mprimitives\u001b[39;00m\u001b[38;5;21;01m.\u001b[39;00m\u001b[38;5;21;01masymmetric\u001b[39;00m \u001b[38;5;28;01mimport\u001b[39;00m ec\n",
      "\u001b[1;31mModuleNotFoundError\u001b[0m: No module named 'cryptography'"
     ]
    }
   ],
   "source": [
    "from cryptography.hazmat.backends import default_backend\n",
    "from cryptography.hazmat.primitives import serialization, hashes\n",
    "from cryptography.hazmat.primitives.asymmetric import ec\n",
    "\n",
    "def generate_key_pair():\n",
    "    private_key = ec.generate_private_key(ec.SECP256R1(), default_backend())\n",
    "    public_key = private_key.public_key()\n",
    "    return private_key, public_key\n",
    "\n",
    "def sign_message(private_key, message):\n",
    "    signature = private_key.sign(\n",
    "        message.encode(),\n",
    "        ec.ECDSA(hashes.SHA256())\n",
    "    )\n",
    "    return signature\n",
    "\n",
    "def verify_signature(public_key, message, signature):\n",
    "    try:\n",
    "        public_key.verify(\n",
    "            signature,\n",
    "            message.encode(),\n",
    "            ec.ECDSA(hashes.SHA256())\n",
    "        )\n",
    "        return True\n",
    "    except Exception:\n",
    "        return False\n",
    "\n",
    "# Example usage\n",
    "private_key, public_key = generate_key_pair()\n",
    "message = \"This is a signed message.\"\n",
    "\n",
    "# Signing\n",
    "signature = sign_message(private_key, message)\n",
    "print(\"Signature:\", signature.hex())\n",
    "\n",
    "# Verifying\n",
    "is_valid = verify_signature(public_key, message, signature)\n",
    "print(\"Signature is valid:\", is_valid)\n"
   ]
  }
 ],
 "metadata": {
  "kernelspec": {
   "display_name": "Python 3",
   "language": "python",
   "name": "python3"
  },
  "language_info": {
   "codemirror_mode": {
    "name": "ipython",
    "version": 3
   },
   "file_extension": ".py",
   "mimetype": "text/x-python",
   "name": "python",
   "nbconvert_exporter": "python",
   "pygments_lexer": "ipython3",
   "version": "3.12.10"
  }
 },
 "nbformat": 4,
 "nbformat_minor": 2
}
