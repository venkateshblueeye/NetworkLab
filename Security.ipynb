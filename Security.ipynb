{
 "cells": [
  {
   "cell_type": "code",
   "execution_count": 7,
   "metadata": {},
   "outputs": [
    {
     "name": "stdout",
     "output_type": "stream",
     "text": [
      "Caesar Encryption and Decryption\n",
      "Original Message: kumar\n",
      "Encrypted Message: nxpdu\n",
      "Decrypted Message: kumar\n"
     ]
    }
   ],
   "source": [
    "def encrypt_caesar(message, key):\n",
    "    result = \"\"\n",
    "    for char in message:\n",
    "        if char.isalpha():\n",
    "            if char.isupper():\n",
    "                result += chr((ord(char) + key - ord('A')) % 26 + ord('A'))\n",
    "            else:\n",
    "                result += chr((ord(char) + key - ord('a')) % 26 + ord('a'))\n",
    "        else:\n",
    "            result += char\n",
    "    return result\n",
    "def decrypt_caesar(encrypted_message, key):\n",
    "    return encrypt_caesar(encrypted_message, -key)\n",
    "if __name__ == \"__main__\":\n",
    "    print(\"Caesar Encryption and Decryption\")\n",
    "    message_to_encrypt =input(\"Enter the Text to be Encrypted\")\n",
    "    caesar_key =int(input(\"Enter the Key Size\"))\n",
    "    encrypted_message = encrypt_caesar(message_to_encrypt, caesar_key)\n",
    "    decrypted_message = decrypt_caesar(encrypted_message, caesar_key)\n",
    "    print(\"Original Message:\", message_to_encrypt)\n",
    "    print(\"Encrypted Message:\", encrypted_message)\n",
    "    print(\"Decrypted Message:\", decrypted_message)\n"
   ]
  },
  {
   "cell_type": "code",
   "execution_count": 3,
   "metadata": {},
   "outputs": [
    {
     "name": "stdout",
     "output_type": "stream",
     "text": [
      "Encrypted: Hello, \n",
      "Decrypted: Hoe,l l\n"
     ]
    }
   ],
   "source": [
    "def encrypt_rail_fence(plaintext, rails):\n",
    "    matrix = [['' for _ in range(len(plaintext))] for _ in range(rails)]\n",
    "    row, col = 0, 0\n",
    "    for char in plaintext:\n",
    "        matrix[row][col] = char\n",
    "        col += 1\n",
    "        # Change direction when reaching the top or bottom rail\n",
    "        if row == 0 or row == rails - 1:\n",
    "            row += 1\n",
    "        else:\n",
    "            row -= 1\n",
    "    # Read the matrix row by row to get the ciphertext\n",
    "    ciphertext = ''.join(matrix[i][j] for j in range(len(plaintext)) for i in range(rails))\n",
    "    return ciphertext\n",
    "def decrypt_rail_fence(ciphertext, rails):\n",
    "    matrix = [['' for _ in range(len(ciphertext))] for _ in range(rails)]\n",
    "    row, col = 0, 0\n",
    "    for char in ciphertext:\n",
    "        matrix[row][col] = '*'\n",
    "        col += 1\n",
    "        # Change direction when reaching the top or bottom rail\n",
    "        if row == 0 or row == rails - 1:\n",
    "            row += 1\n",
    "        else:\n",
    "            row -= 1\n",
    "    # Fill the matrix with the ciphertext\n",
    "    index = 0\n",
    "    for i in range(rails):\n",
    "        for j in range(len(ciphertext)):\n",
    "            if matrix[i][j] == '*' and index < len(ciphertext):\n",
    "                matrix[i][j] = ciphertext[index]\n",
    "                index += 1\n",
    "    # Read the matrix column by column to get the plaintext\n",
    "    plaintext = ''.join(matrix[i][j] for j in range(len(ciphertext)) for i in range(rails))\n",
    "    return plaintext\n",
    "# Example usage\n",
    "plaintext = \"Hello, \"\n",
    "rails = 3\n",
    "# Encryption\n",
    "ciphertext = encrypt_rail_fence(plaintext, rails)\n",
    "print(\"Encrypted:\", ciphertext)\n",
    "# Decryption\n",
    "decrypted_text = decrypt_rail_fence(ciphertext, rails)\n",
    "print(\"Decrypted:\", decrypted_text)\n",
    "\n"
   ]
  },
  {
   "cell_type": "code",
   "execution_count": 5,
   "metadata": {},
   "outputs": [
    {
     "name": "stdout",
     "output_type": "stream",
     "text": [
      "Encrypted Message: 2126834b2358e269a975fcc7d1627a85a1baf205d8a1ef4f86c0b14ba7832e27a574c425490a895a76b87c79a548aafd459b75f16b23cb256d5775f826ee4e31b2b0eab428134d460732689f7aef04570109a9169f1611cfbd389c342c3e54818b4a1d6d750a46985359f00906c8ca4f527d198bb2a4882348a81de1887646dfd4bab949250844d25af80f1ff37780a2d767ae6d8e427b65d433ffc6c2e938453d1760f39f4e43d9dd9b638b25303bcb552c9e548fc9c2d9b74d7717cf03be7f101a7e18543809f6457b63960108dff97512ded83f6a8095c34f66679732b18828b0eeb90f0feb88b660bbcfbebbf7411b8b0880d0da6b605975a2b35c0882bf\n",
      "Decrypted Message: Hello, RSA!\n"
     ]
    }
   ],
   "source": [
    "from cryptography.hazmat.primitives import serialization, hashes\n",
    "from cryptography.hazmat.primitives.asymmetric import rsa, padding\n",
    "\n",
    "def generate_rsa_key_pair():\n",
    "    private_key = rsa.generate_private_key(\n",
    "        public_exponent=65537,\n",
    "        key_size=2048,\n",
    "    )\n",
    "    public_key = private_key.public_key()\n",
    "    return private_key, public_key\n",
    "\n",
    "def encrypt_rsa(public_key, plaintext):\n",
    "    ciphertext = public_key.encrypt(\n",
    "        plaintext.encode(),\n",
    "        padding.OAEP(\n",
    "            mgf=padding.MGF1(algorithm=hashes.SHA256()),\n",
    "            algorithm=hashes.SHA256(),\n",
    "            label=None\n",
    "        )\n",
    "    )\n",
    "    return ciphertext\n",
    "\n",
    "def decrypt_rsa(private_key, ciphertext):\n",
    "    plaintext = private_key.decrypt(\n",
    "        ciphertext,\n",
    "        padding.OAEP(\n",
    "            mgf=padding.MGF1(algorithm=hashes.SHA256()),\n",
    "            algorithm=hashes.SHA256(),\n",
    "            label=None\n",
    "        )\n",
    "    ).decode()\n",
    "    return plaintext\n",
    "\n",
    "# Example usage\n",
    "private_key, public_key = generate_rsa_key_pair()\n",
    "message = \"Hello, RSA!\"\n",
    "\n",
    "encrypted_message = encrypt_rsa(public_key, message)\n",
    "print(\"Encrypted Message:\", encrypted_message.hex())\n",
    "\n",
    "decrypted_message = decrypt_rsa(private_key, encrypted_message)\n",
    "print(\"Decrypted Message:\", decrypted_message)\n"
   ]
  },
  {
   "cell_type": "code",
   "execution_count": 9,
   "metadata": {},
   "outputs": [
    {
     "name": "stdout",
     "output_type": "stream",
     "text": [
      "Alice's Shared Key: 16dfc0d42a1d12a9da5b66a32f0a4885ff4adf371a4a1ad811bd8cbcac51e46cc8af76f69a6640c8e2f342ed119a33e66edcff820a1d2b94ee90b907ee547409560b202c6d25e099913bf51210707885071d9a869465d7d8625460edd394779156312e2605ac21a7f2ef186210efbfb7d8041f12bf07891e72063302a3c3d97d76e87ff69fb52352c7002bc0448e4d5d862f02385c08af2292374e5f457711210e84278ea3a505b2c042af06bff8ef667e0806e2028541b2e1350c75728ad65832320e152ec69a8acde895c48e4d38608a79c0905e5fd63ed524950e74baabe35d2ff3be433a4cd109164d577357bd3377d0a60ce3ebce1646a2d1da5a0c1826\n",
      "Bob's Shared Key: 0b7663a694ab7bfd96ec43ddc054a251e5619592dd64cb7f9e6cce2f7098370589232eeb2932704445d016bca6722d1597c66bceaef53f4e160e043d4c0a060e5aacbb45aa698251ce3753900f4056eb4c38dd0bd53ae4b7151482756d4983e18836d40c4d5d1f434c5dadb122c2b8591c5413ff33608a2a0ef8edcfa1909b2199bbbaa7285bd3a30eac799eca4632efac21c55090bb09aaa6d65315e35431d217ef27c884e4217e95adbc9bcf0ec899ad71105c2d226bdf713b7053c6565d3053939b0200292eea47e1f6a5baf826baaa785a40cd0183582f0bf1c0eac7044b2897b84d71c86364d9ccb0e923e92496f2da3466b92fe45b4995e1eb74d41b2b\n"
     ]
    }
   ],
   "source": [
    "from cryptography.hazmat.primitives import serialization\n",
    "from cryptography.hazmat.primitives.asymmetric import dh\n",
    "from cryptography.hazmat.backends import default_backend\n",
    "\n",
    "def generate_dh_key_pair():\n",
    "    parameters = dh.generate_parameters(generator=2, key_size=2048, backend=default_backend())\n",
    "    private_key = parameters.generate_private_key()\n",
    "    public_key = private_key.public_key()\n",
    "    return private_key, public_key\n",
    "\n",
    "def serialize_key(key):\n",
    "    return key.public_bytes(\n",
    "        encoding=serialization.Encoding.PEM,\n",
    "        format=serialization.PublicFormat.SubjectPublicKeyInfo\n",
    "    )\n",
    "\n",
    "def deserialize_key(serialized_key):\n",
    "    return serialization.load_pem_public_key(serialized_key, backend=default_backend())\n",
    "\n",
    "def derive_shared_key(private_key, peer_public_key):\n",
    "    shared_key = private_key.exchange(peer_public_key)\n",
    "    return shared_key\n",
    "\n",
    "# Example usage\n",
    "alice_private_key, alice_public_key = generate_dh_key_pair()\n",
    "bob_private_key, bob_public_key = generate_dh_key_pair()\n",
    "\n",
    "# Serialize public keys\n",
    "serialized_alice_public_key = serialize_key(alice_public_key)\n",
    "serialized_bob_public_key = serialize_key(bob_public_key)\n",
    "\n",
    "# Deserialize public keys\n",
    "alice_public_key = deserialize_key(serialized_bob_public_key)\n",
    "bob_public_key = deserialize_key(serialized_alice_public_key)\n",
    "\n",
    "# Derive shared keys\n",
    "alice_shared_key = derive_shared_key(alice_private_key, bob_public_key)\n",
    "bob_shared_key = derive_shared_key(bob_private_key, alice_public_key)\n",
    "\n",
    "print(\"Alice's Shared Key:\", alice_shared_key.hex())\n",
    "print(\"Bob's Shared Key:\", bob_shared_key.hex())\n"
   ]
  },
  {
   "cell_type": "code",
   "execution_count": 1,
   "metadata": {},
   "outputs": [
    {
     "ename": "ModuleNotFoundError",
     "evalue": "No module named 'cryptography'",
     "output_type": "error",
     "traceback": [
      "\u001b[1;31m---------------------------------------------------------------------------\u001b[0m",
      "\u001b[1;31mModuleNotFoundError\u001b[0m                       Traceback (most recent call last)",
      "Cell \u001b[1;32mIn[1], line 1\u001b[0m\n\u001b[1;32m----> 1\u001b[0m \u001b[38;5;28;01mfrom\u001b[39;00m \u001b[38;5;21;01mcryptography\u001b[39;00m\u001b[38;5;21;01m.\u001b[39;00m\u001b[38;5;21;01mhazmat\u001b[39;00m\u001b[38;5;21;01m.\u001b[39;00m\u001b[38;5;21;01mbackends\u001b[39;00m \u001b[38;5;28;01mimport\u001b[39;00m default_backend\n\u001b[0;32m      2\u001b[0m \u001b[38;5;28;01mfrom\u001b[39;00m \u001b[38;5;21;01mcryptography\u001b[39;00m\u001b[38;5;21;01m.\u001b[39;00m\u001b[38;5;21;01mhazmat\u001b[39;00m\u001b[38;5;21;01m.\u001b[39;00m\u001b[38;5;21;01mprimitives\u001b[39;00m \u001b[38;5;28;01mimport\u001b[39;00m serialization, hashes\n\u001b[0;32m      3\u001b[0m \u001b[38;5;28;01mfrom\u001b[39;00m \u001b[38;5;21;01mcryptography\u001b[39;00m\u001b[38;5;21;01m.\u001b[39;00m\u001b[38;5;21;01mhazmat\u001b[39;00m\u001b[38;5;21;01m.\u001b[39;00m\u001b[38;5;21;01mprimitives\u001b[39;00m\u001b[38;5;21;01m.\u001b[39;00m\u001b[38;5;21;01masymmetric\u001b[39;00m \u001b[38;5;28;01mimport\u001b[39;00m ec\n",
      "\u001b[1;31mModuleNotFoundError\u001b[0m: No module named 'cryptography'"
     ]
    }
   ],
   "source": [
    "from cryptography.hazmat.backends import default_backend\n",
    "from cryptography.hazmat.primitives import serialization, hashes\n",
    "from cryptography.hazmat.primitives.asymmetric import ec\n",
    "\n",
    "def generate_key_pair():\n",
    "    private_key = ec.generate_private_key(ec.SECP256R1(), default_backend())\n",
    "    public_key = private_key.public_key()\n",
    "    return private_key, public_key\n",
    "\n",
    "def sign_message(private_key, message):\n",
    "    signature = private_key.sign(\n",
    "        message.encode(),\n",
    "        ec.ECDSA(hashes.SHA256())\n",
    "    )\n",
    "    return signature\n",
    "\n",
    "def verify_signature(public_key, message, signature):\n",
    "    try:\n",
    "        public_key.verify(\n",
    "            signature,\n",
    "            message.encode(),\n",
    "            ec.ECDSA(hashes.SHA256())\n",
    "        )\n",
    "        return True\n",
    "    except Exception:\n",
    "        return False\n",
    "\n",
    "# Example usage\n",
    "private_key, public_key = generate_key_pair()\n",
    "message = \"This is a signed message.\"\n",
    "\n",
    "# Signing\n",
    "signature = sign_message(private_key, message)\n",
    "print(\"Signature:\", signature.hex())\n",
    "\n",
    "# Verifying\n",
    "is_valid = verify_signature(public_key, message, signature)\n",
    "print(\"Signature is valid:\", is_valid)\n"
   ]
  }
 ],
 "metadata": {
  "kernelspec": {
   "display_name": "Python 3",
   "language": "python",
   "name": "python3"
  },
  "language_info": {
   "codemirror_mode": {
    "name": "ipython",
    "version": 3
   },
   "file_extension": ".py",
   "mimetype": "text/x-python",
   "name": "python",
   "nbconvert_exporter": "python",
   "pygments_lexer": "ipython3",
   "version": "3.12.2"
  }
 },
 "nbformat": 4,
 "nbformat_minor": 2
}
